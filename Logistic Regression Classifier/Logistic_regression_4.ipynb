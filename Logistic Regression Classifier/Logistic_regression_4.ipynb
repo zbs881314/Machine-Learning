{
 "cells": [
  {
   "cell_type": "code",
   "execution_count": null,
   "metadata": {
    "collapsed": true
   },
   "outputs": [],
   "source": [
    "#generate data\n",
    "\n",
    "import pandas as pd\n",
    "import numpy as np \n",
    "import matplotlib.pyplot as plt "
   ]
  },
  {
   "cell_type": "code",
   "execution_count": null,
   "metadata": {},
   "outputs": [],
   "source": [
    "# handling data\n",
    "\n",
    "from sklearn.cross_validation import train_test_split, cross_val_score\n",
    "df = pd.read_csv('F:\\CV\\de1.csv',usecols = ['area' , 'price' , 'buy' ] )\n",
    "iv = df.iloc[:,[0,1]].values.astype(float)\n",
    "dv = df.iloc[:,2].values\n",
    "iv_train , iv_test  , dv_train  , dv_test = train_test_split( iv , dv , test_size = 0.25  )\n",
    "#scale =  StandardScaler()\n",
    "#iv_train = scale.fit_transform ( iv_train )\n",
    "#iv_test  = scale.fit_transform ( iv_test  )\n",
    "df.head(5)"
   ]
  },
  {
   "cell_type": "code",
   "execution_count": null,
   "metadata": {
    "collapsed": true
   },
   "outputs": [],
   "source": [
    "# implementing logistic regression \n",
    "\n",
    "from sklearn import linear_model\n",
    "lm = linear_model.LogisticRegression(  )\n",
    "lm.fit(iv_train, dv_train)\n",
    "dv_train_pred = lm.predict(iv_train)\n",
    "dv_test_pred = lm.predict(iv_test)"
   ]
  },
  {
   "cell_type": "code",
   "execution_count": null,
   "metadata": {},
   "outputs": [],
   "source": [
    "# logistic model result \n",
    "\n",
    "print ( (dv_train_pred == dv_train).sum() , dv_train.shape[0]   )\n",
    "print ( (dv_test_pred  == dv_test).sum()  , dv_test.shape[0]    )\n",
    "from sklearn.metrics import confusion_matrix\n",
    "confusion_matrix(dv_test, dv_test_pred)\n"
   ]
  },
  {
   "cell_type": "code",
   "execution_count": null,
   "metadata": {},
   "outputs": [],
   "source": [
    "print ( dv_test)\n",
    "print (dv_test_pred )"
   ]
  },
  {
   "cell_type": "code",
   "execution_count": null,
   "metadata": {},
   "outputs": [],
   "source": [
    "from sklearn.metrics import confusion_matrix\n",
    "confusion_matrix(dv_test, dv_test_pred)\n",
    "from sklearn.metrics import classification_report\n",
    "print(classification_report(dv_test, dv_test_pred))"
   ]
  },
  {
   "cell_type": "code",
   "execution_count": null,
   "metadata": {},
   "outputs": [],
   "source": [
    " # visualization \n",
    "\n",
    "plt.matshow(confusion_matrix(dv_test, dv_test_pred))\n",
    "plt.colorbar()\n",
    "plt.xlabel('Predicted output')\n",
    "plt.ylabel('Real output')\n",
    "plt.show()\n"
   ]
  }
 ],
 "metadata": {
  "kernelspec": {
   "display_name": "Python 3",
   "language": "python",
   "name": "python3"
  },
  "language_info": {
   "codemirror_mode": {
    "name": "ipython",
    "version": 3
   },
   "file_extension": ".py",
   "mimetype": "text/x-python",
   "name": "python",
   "nbconvert_exporter": "python",
   "pygments_lexer": "ipython3",
   "version": "3.6.3"
  }
 },
 "nbformat": 4,
 "nbformat_minor": 2
}
