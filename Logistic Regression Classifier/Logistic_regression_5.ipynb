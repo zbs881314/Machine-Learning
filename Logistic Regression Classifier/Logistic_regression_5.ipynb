{
 "cells": [
  {
   "cell_type": "code",
   "execution_count": null,
   "metadata": {
    "collapsed": true
   },
   "outputs": [],
   "source": [
    "#importing Libraries\n",
    "\n",
    "import pandas as pd\n",
    "import numpy as np \n",
    "import matplotlib.pyplot as plt "
   ]
  },
  {
   "cell_type": "code",
   "execution_count": null,
   "metadata": {},
   "outputs": [],
   "source": [
    "# handling data\n",
    "\n",
    "from sklearn.cross_validation import train_test_split, cross_val_score\n",
    "df = pd.read_csv('F:\\CV\\Hotels.csv',usecols = ['Room Cleanliness' , 'Food quality' , 'Rating' ] )\n",
    "iv = df.iloc[:,[0,1]].values.astype(float)\n",
    "dv = df.iloc[:,2].values\n",
    "iv_train , iv_test  , dv_train  , dv_test = train_test_split( iv , dv , test_size = 0.25   )\n",
    "df.head(5)"
   ]
  },
  {
   "cell_type": "code",
   "execution_count": null,
   "metadata": {
    "collapsed": true
   },
   "outputs": [],
   "source": [
    "# implementing logistic regression \n",
    "\n",
    "from sklearn import linear_model\n",
    "lm = linear_model.LogisticRegression() \n",
    "lm.fit(iv_train, dv_train)\n",
    "dv_train_pred = lm.predict(iv_train)\n",
    "dv_test_pred = lm.predict(iv_test)"
   ]
  },
  {
   "cell_type": "code",
   "execution_count": null,
   "metadata": {},
   "outputs": [],
   "source": [
    "# logistic model result \n",
    "\n",
    "print ( (dv_train.shape[0] -(dv_train_pred == dv_train).sum() ) , (dv_train_pred == dv_train).sum()   )\n",
    "print ( ( dv_test.shape[0] - (dv_test_pred  == dv_test).sum() )  ,(dv_test_pred  == dv_test).sum()    )"
   ]
  },
  {
   "cell_type": "code",
   "execution_count": null,
   "metadata": {},
   "outputs": [],
   "source": [
    "# visualization\n",
    "\n",
    "plt.figure(figsize=(15 , 15 ))\n",
    "h = .01 \n",
    "x_min, x_max = iv[:, 0].min() - 1, iv[:, 0].max() + 1\n",
    "y_min, y_max = iv[:, 1].min() - 1, iv[:, 1].max() + 1\n",
    "xx, yy = np.meshgrid(np.arange(x_min, x_max, h), np.arange(y_min, y_max,h))\n",
    "Z = lm.predict(np.c_[xx.ravel(), yy.ravel()])\n",
    "\n",
    "\n",
    "Z = Z.reshape(xx.shape)\n",
    "plt.pcolormesh(xx, yy, Z, cmap='viridis')\n",
    "\n",
    "plt.scatter(iv[:, 0], iv[:, 1], c=dv, edgecolors='k', linewidth=0, cmap=plt.cm.Paired)\n",
    "plt.xlim(xx.min(), xx.max())\n",
    "plt.ylim(yy.min(), yy.max())\n",
    "plt.title(\"logistic regression model \", fontsize='large')\n",
    "plt.xlabel('Room Cleanliness')\n",
    "plt.ylabel('Food quality')\n",
    "plt.xticks(())\n",
    "plt.yticks(())\n",
    "plt.show()"
   ]
  },
  {
   "cell_type": "code",
   "execution_count": null,
   "metadata": {
    "collapsed": true
   },
   "outputs": [],
   "source": []
  }
 ],
 "metadata": {
  "kernelspec": {
   "display_name": "Python 3",
   "language": "python",
   "name": "python3"
  },
  "language_info": {
   "codemirror_mode": {
    "name": "ipython",
    "version": 3
   },
   "file_extension": ".py",
   "mimetype": "text/x-python",
   "name": "python",
   "nbconvert_exporter": "python",
   "pygments_lexer": "ipython3",
   "version": "3.6.3"
  }
 },
 "nbformat": 4,
 "nbformat_minor": 2
}
