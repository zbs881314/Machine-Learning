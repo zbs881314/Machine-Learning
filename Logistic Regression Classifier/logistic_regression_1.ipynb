{
 "cells": [
  {
   "cell_type": "code",
   "execution_count": null,
   "metadata": {
    "collapsed": true
   },
   "outputs": [],
   "source": [
    "# required libraries\n",
    "import pandas as pd\n",
    "import numpy as np \n",
    "import matplotlib.pyplot as plt \n"
   ]
  },
  {
   "cell_type": "code",
   "execution_count": null,
   "metadata": {
    "collapsed": true
   },
   "outputs": [],
   "source": [
    "# Generating Data\n",
    "\n",
    "from sklearn.datasets import make_classification\n",
    "iv , dv = make_classification(n_samples= 100 , n_features= 2 , n_clusters_per_class=1 , n_redundant=0, n_informative=1 )\n",
    "iv_train  = iv[-75:] \n",
    "dv_train  = dv[-75:]\n",
    "iv_test   = iv[:-75]\n",
    "dv_test   = dv[:-75]\n"
   ]
  },
  {
   "cell_type": "code",
   "execution_count": null,
   "metadata": {
    "collapsed": true
   },
   "outputs": [],
   "source": [
    "# implementing logistic regression \n",
    "\n",
    "from sklearn import linear_model\n",
    "lm = linear_model.LogisticRegression()\n",
    "lm.fit(iv_train, dv_train)\n",
    "dv_train_pred = lm.predict(iv_train)\n",
    "dv_test_pred = lm.predict(iv_test)"
   ]
  },
  {
   "cell_type": "code",
   "execution_count": null,
   "metadata": {},
   "outputs": [],
   "source": [
    "# logistic model result \n",
    "print ( (dv_train_pred == dv_train).sum() , dv_train.shape[0]   )\n",
    "print ( (dv_test_pred  == dv_test).sum()  , dv_test.shape[0]    )\n",
    "\n"
   ]
  },
  {
   "cell_type": "code",
   "execution_count": null,
   "metadata": {},
   "outputs": [],
   "source": [
    "# visualization\n",
    "plt.figure(figsize=(15 , 15 ))\n",
    "h = .02 \n",
    "minX, maxX = iv[:, 0].min() - 1, iv[:, 0].max() + 1\n",
    "minY, maxY = iv[:, 1].min() - 1, iv[:, 1].max() + 1\n",
    "xmap, ymap = np.meshgrid(np.arange(minX, maxX, h), np.arange(minY, maxY,h))\n",
    "L = lm.predict(np.c_[xmap.ravel(), ymap.ravel()])\n",
    "L = L.reshape(xmap.shape)\n",
    "plt.pcolormesh( xmap, ymap , L , cmap='gist_rainbow')\n",
    "plt.scatter(iv[:, 0], iv[:, 1], c=dv, edgecolors='k', linewidth=0, cmap=plt.cm.Paired)\n",
    "plt.xlim(xmap.min(), ymap.max())\n",
    "plt.ylim(ymap.min(), ymap.max())\n",
    "plt.xticks(())\n",
    "plt.yticks(())\n",
    "plt.show()"
   ]
  },
  {
   "cell_type": "code",
   "execution_count": null,
   "metadata": {
    "collapsed": true
   },
   "outputs": [],
   "source": []
  }
 ],
 "metadata": {
  "kernelspec": {
   "display_name": "Python 3",
   "language": "python",
   "name": "python3"
  },
  "language_info": {
   "codemirror_mode": {
    "name": "ipython",
    "version": 3
   },
   "file_extension": ".py",
   "mimetype": "text/x-python",
   "name": "python",
   "nbconvert_exporter": "python",
   "pygments_lexer": "ipython3",
   "version": "3.6.3"
  }
 },
 "nbformat": 4,
 "nbformat_minor": 2
}
