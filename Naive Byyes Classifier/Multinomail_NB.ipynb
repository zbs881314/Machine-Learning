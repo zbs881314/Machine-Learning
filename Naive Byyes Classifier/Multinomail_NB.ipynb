{
 "cells": [
  {
   "cell_type": "code",
   "execution_count": 1,
   "metadata": {
    "collapsed": true
   },
   "outputs": [],
   "source": [
    "# required libraries\n",
    "\n",
    "import pandas as pd\n",
    "import numpy as np "
   ]
  },
  {
   "cell_type": "code",
   "execution_count": 2,
   "metadata": {
    "collapsed": true
   },
   "outputs": [],
   "source": [
    "# handling data\n",
    "\n",
    "from sklearn.datasets import fetch_20newsgroups\n",
    "from sklearn.feature_extraction.text import CountVectorizer\n",
    "from sklearn.feature_extraction.text import TfidfTransformer\n",
    "\n",
    "Word_To_Num = CountVectorizer()\n",
    "sellect_words = TfidfTransformer()\n",
    "\n",
    "# category_map = {'misc.forsale': 'Sales', 'rec.motorcycles': 'Motorcycles',\n",
    "#'rec.sport.baseball': 'Baseball', 'sci.crypt': 'Cryptography',\n",
    "#'sci.space': 'Space'}\n",
    "\n",
    "# handling traing data \n",
    "training_Emails = fetch_20newsgroups(subset='train',random_state=0 ,shuffle=True )\n",
    "\n",
    "Word_To_Num_train = Word_To_Num.fit_transform(training_Emails .data)\n",
    "sellect_words_train = sellect_words.fit_transform(Word_To_Num_train)\n",
    "\n",
    "\n",
    "# handling testing data \n",
    "test_text = [\n",
    "\"I kicked the ball and flew away\",\n",
    "\"i tried to find the folder in my PC but it seems that someone have deleted it\",\n",
    "\"many citizens participated in the last elections\"\n",
    ", \"the Minister told their secretary to enter the coming delegation\"\n",
    ", \"we were forced to stop the war to preserve our spirits ourselves and our country\" ]\n",
    "\n",
    "Word_To_Num_test   = Word_To_Num.transform(test_text)\n",
    "sellect_words_test = sellect_words.transform(Word_To_Num_test   )\n"
   ]
  },
  {
   "cell_type": "code",
   "execution_count": 3,
   "metadata": {
    "collapsed": true
   },
   "outputs": [],
   "source": [
    "# Generating MultinomialNB Model \n",
    "from sklearn.naive_bayes import MultinomialNB\n",
    "NAIVE = MultinomialNB()\n",
    "NAIVE.fit(sellect_words_train,training_Emails.target)\n",
    "predicted_categories = NAIVE.predict(sellect_words_test) "
   ]
  },
  {
   "cell_type": "code",
   "execution_count": 4,
   "metadata": {
    "scrolled": true
   },
   "outputs": [
    {
     "name": "stdout",
     "output_type": "stream",
     "text": [
      "[ 9  2 17 17 17]\n",
      "I kicked the ball and flew away\n",
      "rec.sport.baseball\n",
      "i tried to find the folder in my PC but it seems that someone have deleted it\n",
      "comp.os.ms-windows.misc\n",
      "many citizens participated in the last elections\n",
      "talk.politics.mideast\n",
      "the Minister told their secretary to enter the coming delegation\n",
      "talk.politics.mideast\n",
      "we were forced to stop the war to preserve our spirits ourselves and our country\n",
      "talk.politics.mideast\n"
     ]
    }
   ],
   "source": [
    "# MultinomialNB model result\n",
    "print ( predicted_categories )\n",
    "for i in range(5):\n",
    "\n",
    "    print (test_text [i]  )\n",
    "    print(training_Emails.target_names [ predicted_categories[i] ])       "
   ]
  }
 ],
 "metadata": {
  "kernelspec": {
   "display_name": "Python 3",
   "language": "python",
   "name": "python3"
  },
  "language_info": {
   "codemirror_mode": {
    "name": "ipython",
    "version": 3
   },
   "file_extension": ".py",
   "mimetype": "text/x-python",
   "name": "python",
   "nbconvert_exporter": "python",
   "pygments_lexer": "ipython3",
   "version": "3.6.3"
  }
 },
 "nbformat": 4,
 "nbformat_minor": 2
}
