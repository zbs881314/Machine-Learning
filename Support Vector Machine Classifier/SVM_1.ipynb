{
 "cells": [
  {
   "cell_type": "code",
   "execution_count": null,
   "metadata": {
    "collapsed": true
   },
   "outputs": [],
   "source": [
    "# required libraries\n",
    "import pandas as pd\n",
    "import numpy as np \n",
    "import matplotlib.pyplot as plt \n",
    "from sklearn import datasets"
   ]
  },
  {
   "cell_type": "code",
   "execution_count": null,
   "metadata": {},
   "outputs": [],
   "source": [
    "# handling data\n",
    "\n",
    "from sklearn.cross_validation import train_test_split, cross_val_score\n",
    "dataset = pd.read_csv('F:\\CV\\Credit Cards.csv',usecols = ['Annual Income ( K$)' , 'Age' , 'Credit Card Offer' ] )\n",
    "indepX = dataset.iloc[:,[0,1]].values.astype(float)\n",
    "depY = dataset.iloc[:,2].values\n",
    "indepX_train , indepX_test  , depY_train  , depY_test = train_test_split( indepX , depY , test_size = .25  )\n",
    "\n",
    "dataset.head(5)"
   ]
  },
  {
   "cell_type": "code",
   "execution_count": null,
   "metadata": {
    "collapsed": true
   },
   "outputs": [],
   "source": [
    "# SVM model implemintation\n",
    "from sklearn.svm import SVC\n",
    "SVM = SVC(kernel='linear', C=10000, random_state=0)\n",
    "SVM.fit(indepX_train, depY_train)\n",
    "depY_train_pred = SVM.predict(indepX_train)\n",
    "depY_test_pred = SVM.predict(indepX_test)\n"
   ]
  },
  {
   "cell_type": "code",
   "execution_count": null,
   "metadata": {},
   "outputs": [],
   "source": [
    "# SVM model result\n",
    "print ( (  depY_train_pred == depY_train).sum() , depY_train.shape[0]   )\n",
    "print ( (depY_test_pred  ==   depY_test).sum()  , depY_test.shape[0]   )"
   ]
  },
  {
   "cell_type": "code",
   "execution_count": null,
   "metadata": {
    "scrolled": true
   },
   "outputs": [],
   "source": [
    "# visualization\n",
    "\n",
    "plt.figure(figsize=(6 , 6 ))\n",
    "h = .1 \n",
    "x_min, x_max = indepX[:, 0].min() - 1, indepX[:, 0].max() + 1\n",
    "y_min, y_max = indepX[:, 1].min() - 1, indepX[:, 1].max() + 1\n",
    "xx, yy = np.meshgrid(np.arange(x_min, x_max, h), np.arange(y_min, y_max,h))\n",
    "Z = SVM.predict(np.c_[xx.ravel(), yy.ravel()])\n",
    "Z = Z.reshape(xx.shape)\n",
    "plt.pcolormesh(xx, yy, Z, cmap='PiYG')\n",
    "plt.scatter(indepX[:, 0], indepX[:, 1], c=depY, edgecolors='m', linewidth=0, cmap=plt.cm.Paired)\n",
    "plt.xlim(xx.min(), xx.max())\n",
    "plt.ylim(yy.min(), yy.max())\n",
    "plt.title(\"SVM model\", fontsize='large')\n",
    "plt.xlabel('Annual Income ( K$)')\n",
    "plt.ylabel('Age')\n",
    "plt.xticks(())\n",
    "plt.yticks(())\n",
    "plt.show()\n",
    "\n"
   ]
  },
  {
   "cell_type": "code",
   "execution_count": null,
   "metadata": {},
   "outputs": [],
   "source": [
    "# visualization\n",
    "\n",
    "plt.figure(figsize=(6 , 6 ))\n",
    "h = .1 \n",
    "x_min, x_max = indepX_train[:, 0].min() - 1, indepX_train[:, 0].max() + 1\n",
    "y_min, y_max = indepX_train[:, 1].min() - 1, indepX_train[:, 1].max() + 1\n",
    "xx, yy = np.meshgrid(np.arange(x_min, x_max, h), np.arange(y_min, y_max,h))\n",
    "Z = SVM.predict(np.c_[xx.ravel(), yy.ravel()])\n",
    "Z = Z.reshape(xx.shape)\n",
    "plt.pcolormesh(xx, yy, Z, cmap='PiYG')\n",
    "plt.scatter(indepX_train[:, 0], indepX_train[:, 1], c=depY_train, edgecolors='m', linewidth=0, cmap=plt.cm.Paired)\n",
    "plt.xlim(xx.min(), xx.max())\n",
    "plt.ylim(yy.min(), yy.max())\n",
    "plt.title(\"SVM model\", fontsize='large')\n",
    "plt.xlabel('Annual Income ( K$)')\n",
    "plt.ylabel('Age')\n",
    "plt.xticks(())\n",
    "plt.yticks(())\n",
    "plt.show()\n",
    "\n"
   ]
  },
  {
   "cell_type": "code",
   "execution_count": null,
   "metadata": {
    "collapsed": true
   },
   "outputs": [],
   "source": []
  }
 ],
 "metadata": {
  "kernelspec": {
   "display_name": "Python 3",
   "language": "python",
   "name": "python3"
  },
  "language_info": {
   "codemirror_mode": {
    "name": "ipython",
    "version": 3
   },
   "file_extension": ".py",
   "mimetype": "text/x-python",
   "name": "python",
   "nbconvert_exporter": "python",
   "pygments_lexer": "ipython3",
   "version": "3.6.3"
  }
 },
 "nbformat": 4,
 "nbformat_minor": 2
}
