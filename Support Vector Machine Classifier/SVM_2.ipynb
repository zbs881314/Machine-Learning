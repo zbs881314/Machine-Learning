{
 "cells": [
  {
   "cell_type": "code",
   "execution_count": null,
   "metadata": {
    "collapsed": true
   },
   "outputs": [],
   "source": [
    "# required libraries\n",
    "import pandas as pd\n",
    "import numpy as np \n",
    "import matplotlib.pyplot as plt \n",
    "from sklearn import datasets"
   ]
  },
  {
   "cell_type": "code",
   "execution_count": null,
   "metadata": {
    "collapsed": true
   },
   "outputs": [],
   "source": [
    "# handling data \n",
    "from sklearn.datasets import make_classification\n",
    "indepX, depY  = datasets.make_classification(n_samples=200, n_features=2, n_redundant=0,n_clusters_per_class=1, class_sep=2,random_state=101)\n",
    "indepX_train  = indepX[-100:] \n",
    "depY_train    = depY  [-100:]\n",
    "indepX_test   = indepX[:-100]\n",
    "depY_test     = depY  [:-100]"
   ]
  },
  {
   "cell_type": "code",
   "execution_count": null,
   "metadata": {
    "collapsed": true
   },
   "outputs": [],
   "source": [
    "# SVM model implemintation\n",
    "from sklearn.linear_model import SGDClassifier\n",
    "SVM = SGDClassifier(loss=\"hinge\",max_iter= 1000 ,alpha=0.01) \n",
    "SVM.fit(indepX_train, depY_train)\n",
    "SdepY_train_pred = SVM.predict(indepX_train)\n",
    "SdepY_test_pred = SVM.predict(indepX_test ) \n"
   ]
  },
  {
   "cell_type": "code",
   "execution_count": null,
   "metadata": {
    "scrolled": true
   },
   "outputs": [],
   "source": [
    "# SVM model result\n",
    "print ( (SdepY_train_pred == depY_train).sum() , depY_train.shape[0]   )\n",
    "print ( (SdepY_test_pred  == depY_test ).sum()  , depY_test.shape[0]   )"
   ]
  },
  {
   "cell_type": "code",
   "execution_count": null,
   "metadata": {},
   "outputs": [],
   "source": [
    "# visualization\n",
    "\n",
    "plt.figure(figsize=(10 , 10 ))\n",
    "h = .01 \n",
    "x_min, x_max = indepX[:, 0].min() - 1, indepX[:, 0].max() + 1\n",
    "y_min, y_max = indepX[:, 1].min() - 1, indepX[:, 1].max() + 1\n",
    "xx, yy = np.meshgrid(np.arange(x_min, x_max, h), np.arange(y_min, y_max,h))\n",
    "Z = SVM.predict(np.c_[xx.ravel(), yy.ravel()])\n",
    "Z = Z.reshape(xx.shape)\n",
    "plt.pcolormesh(xx, yy, Z, cmap='PiYG')\n",
    "plt.scatter(indepX[:, 0], indepX[:, 1], c=depY, edgecolors='m', linewidth=0, cmap=plt.cm.Paired)\n",
    "plt.xlim(xx.min(), xx.max())\n",
    "plt.ylim(yy.min(), yy.max())\n",
    "plt.title(\"SVM model\", fontsize='large')\n",
    "plt.xlabel('X1')\n",
    "plt.ylabel('X2')\n",
    "plt.xticks(())\n",
    "plt.yticks(())\n",
    "plt.show()\n",
    "\n"
   ]
  },
  {
   "cell_type": "code",
   "execution_count": null,
   "metadata": {
    "collapsed": true
   },
   "outputs": [],
   "source": []
  }
 ],
 "metadata": {
  "kernelspec": {
   "display_name": "Python 3",
   "language": "python",
   "name": "python3"
  },
  "language_info": {
   "codemirror_mode": {
    "name": "ipython",
    "version": 3
   },
   "file_extension": ".py",
   "mimetype": "text/x-python",
   "name": "python",
   "nbconvert_exporter": "python",
   "pygments_lexer": "ipython3",
   "version": "3.6.3"
  }
 },
 "nbformat": 4,
 "nbformat_minor": 2
}
