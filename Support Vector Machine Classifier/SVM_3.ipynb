{
 "cells": [
  {
   "cell_type": "code",
   "execution_count": null,
   "metadata": {
    "collapsed": true
   },
   "outputs": [],
   "source": [
    "#generate data\n",
    "\n",
    "import pandas as pd\n",
    "import numpy as np \n",
    "import matplotlib.pyplot as plt "
   ]
  },
  {
   "cell_type": "code",
   "execution_count": null,
   "metadata": {},
   "outputs": [],
   "source": [
    "# handling data\n",
    "\n",
    "from sklearn import datasets \n",
    "digits = datasets.load_digits()\n",
    "indepX = digits.data\n",
    "depY = digits.target\n",
    "indepX_train  = indepX[:-1000] \n",
    "depY_train  = depY[:-1000]\n",
    "indepX_test   = indepX[-1000:]\n",
    "depY_test   = depY[-1000:]\n",
    "print ( digits.data.shape[0] , indepX_train.shape[0] , indepX_test.shape[0] )\n"
   ]
  },
  {
   "cell_type": "code",
   "execution_count": null,
   "metadata": {
    "collapsed": true
   },
   "outputs": [],
   "source": [
    "# SVM model implemintation\n",
    "\n",
    "from sklearn.svm import SVC\n",
    "SVM = SVC(kernel='linear', C=1, random_state=0)\n",
    "SVM.fit(indepX_train, depY_train)\n",
    "depY_train_pred = SVM.predict(indepX_train)\n",
    "depY_test_pred = SVM.predict(indepX_test)"
   ]
  },
  {
   "cell_type": "code",
   "execution_count": null,
   "metadata": {},
   "outputs": [],
   "source": [
    "# SVM model result \n",
    "\n",
    "print ( (depY_train_pred == depY_train).sum() , depY_train.shape[0]   )\n",
    "print ( (depY_test_pred  == depY_test ).sum()  , depY_test.shape[0]   )"
   ]
  },
  {
   "cell_type": "code",
   "execution_count": null,
   "metadata": {},
   "outputs": [],
   "source": [
    "# correct predictions visualization\n",
    "\n",
    "plt.figure(figsize=(5 , 5 ))\n",
    "k = 0\n",
    "for i in range(1000):\n",
    "    if  depY_test_pred[-i] == depY_test[-i] :\n",
    "        print ( ' prediction is :' , depY_test_pred[-i]  )\n",
    "        plt.imshow(digits.images[-i] , cmap = plt.cm.gray_r  , interpolation = \"none\")\n",
    "        k = k+1 \n",
    "        plt.show()\n",
    "k        "
   ]
  },
  {
   "cell_type": "code",
   "execution_count": null,
   "metadata": {},
   "outputs": [],
   "source": [
    "# wrong predictions visualization\n",
    "\n",
    "plt.figure(figsize=(5 , 5 ))\n",
    "j = 0 \n",
    "for i in range(1000):\n",
    "    if  depY_test_pred[-i] != depY_test[-i] :\n",
    "            print ( ' wrong prediction is :' , depY_test_pred[-i]  )\n",
    "\n",
    "            plt.imshow(digits.images[-i] , cmap = plt.cm.gray_r  , interpolation = \"none\")\n",
    "            j=j+1\n",
    "            plt.show()\n",
    "j  "
   ]
  },
  {
   "cell_type": "code",
   "execution_count": null,
   "metadata": {
    "collapsed": true
   },
   "outputs": [],
   "source": []
  }
 ],
 "metadata": {
  "kernelspec": {
   "display_name": "Python 3",
   "language": "python",
   "name": "python3"
  },
  "language_info": {
   "codemirror_mode": {
    "name": "ipython",
    "version": 3
   },
   "file_extension": ".py",
   "mimetype": "text/x-python",
   "name": "python",
   "nbconvert_exporter": "python",
   "pygments_lexer": "ipython3",
   "version": "3.6.3"
  }
 },
 "nbformat": 4,
 "nbformat_minor": 2
}
